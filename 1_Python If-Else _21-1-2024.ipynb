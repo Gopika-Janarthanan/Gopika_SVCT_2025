{
 "cells": [
  {
   "cell_type": "code",
   "execution_count": null,
   "id": "327c5da4",
   "metadata": {},
   "outputs": [],
   "source": [
    "#Task\n",
    "#Given an integer, , perform the following conditional actions:\n",
    "#If  is odd, print Weird\n",
    "#If  is even and in the inclusive range of  to , print Not Weird\n",
    "#If  is even and in the inclusive range of  to , print Weird\n",
    "#If  is even and greater than , print Not Weird\n",
    "#Input Format\n",
    "\n",
    "#A single line containing a positive integer, .\n",
    "\n",
    "#Constraints\n",
    "\n",
    "#Output Format\n",
    "\n",
    "#Print Weird if the number is weird. Otherwise, print Not Weird.\n",
    "\n",
    "#Sample Input 0\n",
    "\n",
    "#3\n",
    "#Sample Output 0\n",
    "\n",
    "#Weird"
   ]
  },
  {
   "cell_type": "code",
   "execution_count": null,
   "id": "5c86635a",
   "metadata": {},
   "outputs": [],
   "source": [
    "#logic 1"
   ]
  },
  {
   "cell_type": "code",
   "execution_count": null,
   "id": "c71f97f4",
   "metadata": {},
   "outputs": [],
   "source": []
  },
  {
   "cell_type": "code",
   "execution_count": null,
   "id": "0dd02ca5",
   "metadata": {},
   "outputs": [],
   "source": [
    "n=int(input())\n",
    "if n % 2 != 0:\n",
    "    print(\"Weird\")\n",
    "else:\n",
    "    if n in range(2, 6) or n > 20:\n",
    "        print(\"Not Weird\")\n",
    "    elif n in range(6, 21):\n",
    "        print(\"Weird\")"
   ]
  }
 ],
 "metadata": {
  "kernelspec": {
   "display_name": "Python 3 (ipykernel)",
   "language": "python",
   "name": "python3"
  },
  "language_info": {
   "codemirror_mode": {
    "name": "ipython",
    "version": 3
   },
   "file_extension": ".py",
   "mimetype": "text/x-python",
   "name": "python",
   "nbconvert_exporter": "python",
   "pygments_lexer": "ipython3",
   "version": "3.11.3"
  }
 },
 "nbformat": 4,
 "nbformat_minor": 5
}
