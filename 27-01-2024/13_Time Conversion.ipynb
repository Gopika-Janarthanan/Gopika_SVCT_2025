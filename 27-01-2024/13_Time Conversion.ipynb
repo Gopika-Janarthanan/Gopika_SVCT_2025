{
 "cells": [
  {
   "cell_type": "code",
   "execution_count": null,
   "id": "c65947e3",
   "metadata": {},
   "outputs": [],
   "source": [
    "# Given a time in -hour AM/PM format, convert it to military (24-hour) time.\n",
    "\n",
    "# Note: - 12:00:00AM on a 12-hour clock is 00:00:00 on a 24-hour clock.\n",
    "# - 12:00:00PM on a 12-hour clock is 12:00:00 on a 24-hour clock.\n",
    "\n",
    "# Example\n",
    "\n",
    "\n",
    "# Return '12:01:00'.\n",
    "\n",
    "\n",
    "# Return '00:01:00'.\n",
    "\n",
    "# Function Description\n",
    "\n",
    "# Complete the timeConversion function in the editor below. It should return a new string representing the input time in 24 hour format.\n",
    "\n",
    "# timeConversion has the following parameter(s):\n",
    "\n",
    "# string s: a time in  hour format\n",
    "# Returns\n",
    "\n",
    "# string: the time in  hour format\n",
    "# Input Format\n",
    "\n",
    "# A single string  that represents a time in -hour clock format (i.e.:  or ).\n",
    "\n",
    "# Constraints\n",
    "\n",
    "# All input times are valid\n",
    "# Sample Input 0\n",
    "\n",
    "# 07:05:45PM\n",
    "# Sample Output 0\n",
    "\n",
    "# 19:05:45"
   ]
  },
  {
   "cell_type": "code",
   "execution_count": null,
   "id": "ab890b70",
   "metadata": {},
   "outputs": [],
   "source": [
    "#logic 1"
   ]
  },
  {
   "cell_type": "code",
   "execution_count": null,
   "id": "05a287a2",
   "metadata": {},
   "outputs": [],
   "source": [
    "import os\n",
    "from datetime import datetime\n",
    "\n",
    "def timeConversion(s):\n",
    "    # Parse the input time string using datetime\n",
    "    time_obj = datetime.strptime(s, '%I:%M:%S%p')\n",
    "\n",
    "    # Format the time object in 24-hour format\n",
    "    result = time_obj.strftime('%H:%M:%S')\n",
    "\n",
    "    return result\n",
    "\n",
    "if __name__ == '__main__':\n",
    "    fptr = open(os.environ['OUTPUT_PATH'], 'w')\n",
    "\n",
    "    s = input()\n",
    "\n",
    "    result = timeConversion(s)\n",
    "\n",
    "    fptr.write(result + '\\n')\n",
    "\n",
    "    fptr.close()\n",
    "\n"
   ]
  }
 ],
 "metadata": {
  "kernelspec": {
   "display_name": "Python 3 (ipykernel)",
   "language": "python",
   "name": "python3"
  }
 },
 "nbformat": 4,
 "nbformat_minor": 5
}
