{
 "cells": [
  {
   "cell_type": "code",
   "execution_count": 2,
   "id": "0d06728a",
   "metadata": {},
   "outputs": [],
   "source": [
    "#Consider two points,  and . We consider the inversion or point reflection, , of point  across point  to be a  rotation of point  around .\n",
    "\n",
    "# Given  sets of points  and , find  for each pair of points and print two space-separated integers denoting the respective values of  and  on a new line.\n",
    "\n",
    "# Function Description\n",
    "\n",
    "# Complete the findPoint function in the editor below.\n",
    "\n",
    "# findPoint has the following parameters:\n",
    "\n",
    "# int px, py, qx, qy: x and y coordinates for points  and \n",
    "# Returns\n",
    "\n",
    "# int[2]: x and y coordinates of the reflected point \n",
    "# Input Format\n",
    "\n",
    "# The first line contains an integer, , denoting the number of sets of points.\n",
    "# Each of the  subsequent lines contains four space-separated integers that describe the respective values of , , , and  defining points  and .\n",
    "\n",
    "# Constraints\n",
    "\n",
    "# Sample Input\n",
    "\n",
    "# 2\n",
    "# 0 0 1 1\n",
    "# 1 1 2 2\n",
    "# Sample Output\n",
    "\n",
    "# 2 2\n",
    "# 3 3"
   ]
  },
  {
   "cell_type": "code",
   "execution_count": null,
   "id": "d03db229",
   "metadata": {},
   "outputs": [],
   "source": [
    "#logic 1"
   ]
  },
  {
   "cell_type": "code",
   "execution_count": null,
   "id": "03d4ee8f",
   "metadata": {},
   "outputs": [],
   "source": [
    "import math\n",
    "import os\n",
    "import random\n",
    "import re\n",
    "import sys\n",
    "\n",
    "#\n",
    "# Complete the 'findPoint' function below.\n",
    "#\n",
    "# The function is expected to return an INTEGER_ARRAY.\n",
    "# The function accepts following parameters:\n",
    "#  1. INTEGER px\n",
    "#  2. INTEGER py\n",
    "#  3. INTEGER qx\n",
    "#  4. INTEGER qy\n",
    "#\n",
    "\n",
    "def findPoint(px, py, qx, qy):\n",
    "    rx = 2 * qx - px\n",
    "    ry = 2 * qy - py\n",
    "    return [rx, ry]\n",
    "\n",
    "\n",
    "if __name__ == '__main__':\n",
    "    fptr = open(os.environ['OUTPUT_PATH'], 'w')\n",
    "\n",
    "    n = int(input().strip())\n",
    "\n",
    "    for n_itr in range(n):\n",
    "        first_multiple_input = input().rstrip().split()\n",
    "\n",
    "        px = int(first_multiple_input[0])\n",
    "\n",
    "        py = int(first_multiple_input[1])\n",
    "\n",
    "        qx = int(first_multiple_input[2])\n",
    "\n",
    "        qy = int(first_multiple_input[3])\n",
    "\n",
    "        result = findPoint(px, py, qx, qy)\n",
    "\n",
    "        fptr.write(' '.join(map(str, result)))\n",
    "        fptr.write('\\n')\n",
    "\n",
    "    fptr.close()\n"
   ]
  }
 ],
 "metadata": {
  "kernelspec": {
   "display_name": "Python 3 (ipykernel)",
   "language": "python",
   "name": "python3"
  },
  "language_info": {
   "codemirror_mode": {
    "name": "ipython",
    "version": 3
   },
   "file_extension": ".py",
   "mimetype": "text/x-python",
   "name": "python",
   "nbconvert_exporter": "python",
   "pygments_lexer": "ipython3",
   "version": "3.11.3"
  }
 },
 "nbformat": 4,
 "nbformat_minor": 5
}
