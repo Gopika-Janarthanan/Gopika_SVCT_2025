{
 "cells": [
  {
   "cell_type": "code",
   "execution_count": null,
   "id": "7690b201",
   "metadata": {},
   "outputs": [],
   "source": [
    "#You are asked to ensure that the first and last names of people begin with a capital letter in their passports. For example, alison heck should be capitalised correctly as Alison Heck.\n",
    "\n",
    "\n",
    "# Given a full name, your task is to capitalize the name appropriately.\n",
    "\n",
    "# Input Format\n",
    "\n",
    "# A single line of input containing the full name, .\n",
    "\n",
    "# Constraints\n",
    "\n",
    "# The string consists of alphanumeric characters and spaces.\n",
    "# Note: in a word only the first character is capitalized. Example 12abc when capitalized remains 12abc.\n",
    "\n",
    "# Output Format\n",
    "\n",
    "# Print the capitalized string, .\n",
    "\n",
    "# Sample Input\n",
    "\n",
    "# chris alan\n",
    "# Sample Output\n",
    "\n",
    "# Chris Alan"
   ]
  },
  {
   "cell_type": "code",
   "execution_count": null,
   "id": "9c5fa6a1",
   "metadata": {
    "collapsed": true
   },
   "outputs": [],
   "source": [
    "#logic 1"
   ]
  },
  {
   "cell_type": "code",
   "execution_count": null,
   "id": "a9ad029a",
   "metadata": {},
   "outputs": [],
   "source": [
    "def solve(s):\n",
    "    word = s.split(' ')\n",
    "    capital= (((i.capitalize() for i in word)))\n",
    "    return ' '.join(capital)"
   ]
  },
  {
   "cell_type": "code",
   "execution_count": null,
   "id": "3779f504",
   "metadata": {},
   "outputs": [],
   "source": [
    "#logic 2"
   ]
  },
  {
   "cell_type": "code",
   "execution_count": null,
   "id": "dbd937f0",
   "metadata": {},
   "outputs": [],
   "source": [
    "def solve(s):\n",
    "    return s.title()"
   ]
  }
 ],
 "metadata": {
  "kernelspec": {
   "display_name": "Python 3 (ipykernel)",
   "language": "python",
   "name": "python3"
  },
  "language_info": {
   "codemirror_mode": {
    "name": "ipython",
    "version": 3
   },
   "file_extension": ".py",
   "mimetype": "text/x-python",
   "name": "python",
   "nbconvert_exporter": "python",
   "pygments_lexer": "ipython3",
   "version": "3.11.3"
  }
 },
 "nbformat": 4,
 "nbformat_minor": 5
}
