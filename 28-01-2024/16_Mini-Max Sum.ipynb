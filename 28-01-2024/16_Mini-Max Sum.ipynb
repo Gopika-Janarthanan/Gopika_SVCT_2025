{
 "cells": [
  {
   "cell_type": "code",
   "execution_count": null,
   "id": "ce7b4c54",
   "metadata": {},
   "outputs": [],
   "source": [
    "# Given five positive integers, find the minimum and maximum values that can be calculated by summing exactly four of the five integers. Then print the respective minimum and maximum values as a single line of two space-separated long integers.\n",
    "\n",
    "# Example\n",
    "\n",
    "# The minimum sum is  and the maximum sum is . The function prints\n",
    "\n",
    "# 16 24\n",
    "# Function Description\n",
    "\n",
    "# Complete the miniMaxSum function in the editor below.\n",
    "\n",
    "# miniMaxSum has the following parameter(s):\n",
    "\n",
    "# arr: an array of  integers\n",
    "# Print\n",
    "\n",
    "# Print two space-separated integers on one line: the minimum sum and the maximum sum of  of  elements.\n",
    "\n",
    "# Input Format\n",
    "\n",
    "# A single line of five space-separated integers.\n",
    "\n",
    "# Constraints\n",
    "\n",
    "\n",
    "# Output Format\n",
    "\n",
    "# Print two space-separated long integers denoting the respective minimum and maximum values that can be calculated by summing exactly four of the five integers. (The output can be greater than a 32 bit integer.)\n",
    "\n",
    "# Sample Input\n",
    "\n",
    "# 1 2 3 4 5\n",
    "# Sample Output\n",
    "\n",
    "# 10 14\n"
   ]
  },
  {
   "cell_type": "code",
   "execution_count": null,
   "id": "40af81b8",
   "metadata": {},
   "outputs": [],
   "source": [
    "#logic 1"
   ]
  },
  {
   "cell_type": "code",
   "execution_count": null,
   "id": "aebb8719",
   "metadata": {},
   "outputs": [],
   "source": [
    "#!/bin/python3\n",
    "\n",
    "import math\n",
    "import os\n",
    "import random\n",
    "import re\n",
    "import sys\n",
    "\n",
    "#\n",
    "# Complete the 'miniMaxSum' function below.\n",
    "#\n",
    "# The function accepts INTEGER_ARRAY arr as parameter.\n",
    "#\n",
    "\n",
    "def miniMaxSum(arr):\n",
    "    arr.sort()\n",
    "    total_sum = sum(arr)\n",
    "    min_sum = total_sum - arr[-1]\n",
    "    max_sum = total_sum - arr[0]\n",
    "    print(min_sum, max_sum)\n",
    "\n",
    "\n",
    "if __name__ == '__main__':\n",
    "\n",
    "    arr = list(map(int, input().rstrip().split()))\n",
    "\n",
    "    miniMaxSum(arr)\n"
   ]
  }
 ],
 "metadata": {
  "kernelspec": {
   "display_name": "Python 3 (ipykernel)",
   "language": "python",
   "name": "python3"
  }
 },
 "nbformat": 4,
 "nbformat_minor": 5
}
