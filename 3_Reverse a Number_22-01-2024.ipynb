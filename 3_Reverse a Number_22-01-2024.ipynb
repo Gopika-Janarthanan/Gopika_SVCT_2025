{
 "cells": [
  {
   "cell_type": "code",
   "execution_count": null,
   "id": "e89fc02b",
   "metadata": {},
   "outputs": [],
   "source": [
    "#Given a number N reverse the number and print it.\n",
    "\n",
    "# Example 1: Input: N = 123 Output: 321 Explanation: The reverse of 123 is 321\n",
    "\n",
    "# Example 2: Input: N = 234 Output: 432 Explanation: The reverse of 234 is 432\n",
    "\n",
    "# Input Format\n",
    "\n",
    "# 123\n",
    "\n",
    "# Constraints\n",
    "\n",
    "# N <= 1000\n",
    "\n",
    "# Output Format\n",
    "\n",
    "# 321\n",
    "\n",
    "# Sample Input 0\n",
    "\n",
    "# 123\n",
    "# Sample Output 0\n",
    "\n",
    "# 321"
   ]
  },
  {
   "cell_type": "code",
   "execution_count": null,
   "id": "777dcc43",
   "metadata": {
    "collapsed": true
   },
   "outputs": [],
   "source": [
    "#logic 1"
   ]
  },
  {
   "cell_type": "code",
   "execution_count": null,
   "id": "43f55b55",
   "metadata": {},
   "outputs": [],
   "source": [
    "n=int(input())\n",
    "reversed_no=int(str(n)[::-1])\n",
    "print(reversed_no)"
   ]
  }
 ],
 "metadata": {
  "kernelspec": {
   "display_name": "Python 3 (ipykernel)",
   "language": "python",
   "name": "python3"
  },
  "language_info": {
   "codemirror_mode": {
    "name": "ipython",
    "version": 3
   },
   "file_extension": ".py",
   "mimetype": "text/x-python",
   "name": "python",
   "nbconvert_exporter": "python",
   "pygments_lexer": "ipython3",
   "version": "3.11.3"
  }
 },
 "nbformat": 4,
 "nbformat_minor": 5
}
