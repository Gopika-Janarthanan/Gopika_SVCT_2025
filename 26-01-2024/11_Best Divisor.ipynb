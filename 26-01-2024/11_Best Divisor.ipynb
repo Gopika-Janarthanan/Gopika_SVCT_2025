{
 "cells": [
  {
   "cell_type": "code",
   "execution_count": null,
   "id": "3b7feed1",
   "metadata": {},
   "outputs": [],
   "source": [
    "# Kristen loves playing with and comparing numbers. She thinks that if she takes two different positive numbers, the one whose digits sum to a larger number is better than the other. If the sum of digits is equal for both numbers, then she thinks the smaller number is better. For example, Kristen thinks that  is better than  and that  is better than .\n",
    "\n",
    "# Given an integer, , can you find the divisor of  that Kristin will consider to be the best?\n",
    "\n",
    "# Input Format\n",
    "\n",
    "# A single integer denoting .\n",
    "\n",
    "# Constraints\n",
    "\n",
    "# Output Format\n",
    "\n",
    "# Print an integer denoting the best divisor of .\n",
    "\n",
    "# Sample Input 0\n",
    "\n",
    "# 12\n",
    "# Sample Output 0\n",
    "\n",
    "# 6"
   ]
  },
  {
   "cell_type": "code",
   "execution_count": null,
   "id": "da6bcd26",
   "metadata": {},
   "outputs": [],
   "source": [
    "#logic 1"
   ]
  },
  {
   "cell_type": "code",
   "execution_count": null,
   "id": "2abce81d",
   "metadata": {},
   "outputs": [],
   "source": [
    "import math\n",
    "import os\n",
    "import random\n",
    "import re\n",
    "import sys\n",
    "import math\n",
    "\n",
    "def get_digit_sum(number):\n",
    "    return sum(map(int, str(number)))\n",
    "\n",
    "def best_divisor(n):\n",
    "    best_div = 1\n",
    "    max_digit_sum = 1\n",
    "\n",
    "    for i in range(2, n + 1):\n",
    "        if n % i == 0:\n",
    "            digit_sum = get_digit_sum(i)\n",
    "            if digit_sum > max_digit_sum or (digit_sum == max_digit_sum and i < best_div):\n",
    "                max_digit_sum = digit_sum\n",
    "                best_div = i\n",
    "\n",
    "    return best_div\n",
    "\n",
    "if __name__ == '__main__':\n",
    "    n = int(input().strip())\n",
    "    result = best_divisor(n)\n",
    "    print(result)\n",
    "\n"
   ]
  }
 ],
 "metadata": {
  "kernelspec": {
   "display_name": "Python 3 (ipykernel)",
   "language": "python",
   "name": "python3"
  },
  "language_info": {
   "codemirror_mode": {
    "name": "ipython",
    "version": 3
   },
   "file_extension": ".py",
   "mimetype": "text/x-python",
   "name": "python",
   "nbconvert_exporter": "python",
   "pygments_lexer": "ipython3",
   "version": "3.11.3"
  }
 },
 "nbformat": 4,
 "nbformat_minor": 5
}
