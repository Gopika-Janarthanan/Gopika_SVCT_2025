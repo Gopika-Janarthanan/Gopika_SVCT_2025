{
 "cells": [
  {
   "cell_type": "code",
   "execution_count": null,
   "id": "6fdc00f6",
   "metadata": {},
   "outputs": [],
   "source": [
    "# You are given the firstname and lastname of a person on two different lines. Your task is to read them and print the following:\n",
    "\n",
    "# Hello firstname lastname! You just delved into python.\n",
    "\n",
    "# Function Description\n",
    "\n",
    "# Complete the print_full_name function in the editor below.\n",
    "\n",
    "# print_full_name has the following parameters:\n",
    "\n",
    "# string first: the first name\n",
    "# string last: the last name\n",
    "# Prints\n",
    "\n",
    "# string: 'Hello  ! You just delved into python' where  and  are replaced with  and .\n",
    "# Input Format\n",
    "\n",
    "# The first line contains the first name, and the second line contains the last name.\n",
    "\n",
    "# Constraints\n",
    "\n",
    "# The length of the first and last names are each ≤ .\n",
    "\n",
    "# Sample Input 0\n",
    "\n",
    "# Ross\n",
    "# Taylor\n",
    "# Sample Output 0\n",
    "\n",
    "# Hello Ross Taylor! You just delved into python."
   ]
  },
  {
   "cell_type": "code",
   "execution_count": null,
   "id": "640b8f06",
   "metadata": {},
   "outputs": [],
   "source": [
    "# logic 1"
   ]
  },
  {
   "cell_type": "code",
   "execution_count": null,
   "id": "d2ef2c40",
   "metadata": {},
   "outputs": [],
   "source": [
    "def print_full_name(first,last):\n",
    "    full_name = f\"Hello {first} {last}! You just delved into python.\"\n",
    "    print(full_name)"
   ]
  },
  {
   "cell_type": "code",
   "execution_count": null,
   "id": "930d4be0",
   "metadata": {},
   "outputs": [],
   "source": [
    "# logic 2"
   ]
  },
  {
   "cell_type": "code",
   "execution_count": null,
   "id": "31d2e564",
   "metadata": {},
   "outputs": [],
   "source": [
    "first_name=input()\n",
    "last_name=input()\n",
    "print('Hello',first_name,last_name+'! You just delved into python.' )"
   ]
  }
 ],
 "metadata": {
  "kernelspec": {
   "display_name": "Python 3 (ipykernel)",
   "language": "python",
   "name": "python3"
  },
  "language_info": {
   "codemirror_mode": {
    "name": "ipython",
    "version": 3
   },
   "file_extension": ".py",
   "mimetype": "text/x-python",
   "name": "python",
   "nbconvert_exporter": "python",
   "pygments_lexer": "ipython3",
   "version": "3.11.3"
  }
 },
 "nbformat": 4,
 "nbformat_minor": 5
}
