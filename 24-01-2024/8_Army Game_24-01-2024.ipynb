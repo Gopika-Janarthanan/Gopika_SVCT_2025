{
 "cells": [
  {
   "cell_type": "code",
   "execution_count": null,
   "id": "1a86ed66",
   "metadata": {},
   "outputs": [],
   "source": [
    "#Luke is daydreaming in Math class. He has a sheet of graph paper with  rows and  columns, and he imagines that there is an army base in each cell for a total of  bases. He wants to drop supplies at strategic points on the sheet, marking each drop point with a red dot. If a base contains at least one package inside or on top of its border fence, then it's considered to be supplied. For example:\n",
    "\n",
    "# image\n",
    "\n",
    "# Given  and , what's the minimum number of packages that Luke must drop to supply all of his bases?\n",
    "\n",
    "# Example\n",
    "\n",
    "\n",
    "# Packages can be dropped at the corner between cells (0, 0), (0, 1), (1, 0) and (1, 1) to supply  bases. Another package can be dropped at a border between (0, 2) and (1, 2). This supplies all bases using  packages.\n",
    "\n",
    "# Function Description\n",
    "\n",
    "# Complete the gameWithCells function in the editor below.\n",
    "\n",
    "# gameWithCells has the following parameters:\n",
    "\n",
    "# int n: the number of rows in the game\n",
    "# int m: the number of columns in the game\n",
    "# Returns\n",
    "\n",
    "# int: the minimum number of packages required\n",
    "# Input Format\n",
    "\n",
    "# Two space-separated integers describing the respective values of  and .\n",
    "\n",
    "# Constraints\n",
    "\n",
    "\n",
    "# Sample Input 0\n",
    "\n",
    "# 2 2\n",
    "# Sample Output 0\n",
    "\n",
    "# 1"
   ]
  },
  {
   "cell_type": "code",
   "execution_count": null,
   "id": "1777ff89",
   "metadata": {
    "collapsed": true
   },
   "outputs": [],
   "source": [
    "#logic 1"
   ]
  },
  {
   "cell_type": "code",
   "execution_count": null,
   "id": "dbd1fe3e",
   "metadata": {},
   "outputs": [],
   "source": [
    "#!/bin/python3\n",
    "\n",
    "import math\n",
    "import os\n",
    "import random\n",
    "import re\n",
    "import sys\n",
    "\n",
    "def gameWithCells(n, m):\n",
    "    packages_for_rows = math.ceil(n / 2)\n",
    "    packages_for_columns = math.ceil(m / 2)\n",
    "    \n",
    "    total_packages = packages_for_rows * packages_for_columns\n",
    "    \n",
    "    return total_packages\n",
    "n, m = map(int, input().split())\n",
    "result = gameWithCells(n, m)\n",
    "print(result)\n",
    "\n"
   ]
  }
 ],
 "metadata": {
  "kernelspec": {
   "display_name": "Python 3 (ipykernel)",
   "language": "python",
   "name": "python3"
  },
  "language_info": {
   "codemirror_mode": {
    "name": "ipython",
    "version": 3
   },
   "file_extension": ".py",
   "mimetype": "text/x-python",
   "name": "python",
   "nbconvert_exporter": "python",
   "pygments_lexer": "ipython3",
   "version": "3.11.3"
  }
 },
 "nbformat": 4,
 "nbformat_minor": 5
}
