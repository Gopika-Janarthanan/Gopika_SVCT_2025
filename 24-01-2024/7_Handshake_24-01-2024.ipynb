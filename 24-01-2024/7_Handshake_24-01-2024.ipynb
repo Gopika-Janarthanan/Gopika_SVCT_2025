{
 "cells": [
  {
   "cell_type": "code",
   "execution_count": null,
   "id": "b0209975",
   "metadata": {},
   "outputs": [],
   "source": [
    "# At the annual meeting of Board of Directors of Acme Inc. If everyone attending shakes hands exactly one time with every other attendee, how many handshakes are there?\n",
    "\n",
    "# Example\n",
    "\n",
    "# There are  attendees, ,  and .  shakes hands with  and , and  shakes hands with . Now they have all shaken hands after  handshakes.\n",
    "\n",
    "# Function Description\n",
    "\n",
    "# Complete the handshakes function in the editor below.\n",
    "\n",
    "# handshakes has the following parameter:\n",
    "\n",
    "# int n: the number of attendees\n",
    "# Returns\n",
    "\n",
    "# int: the number of handshakes\n",
    "# Input Format\n",
    "# The first line contains the number of test cases .\n",
    "# Each of the following  lines contains an integer, .\n",
    "\n",
    "# Constraints\n",
    "\n",
    "\n",
    "\n",
    "# Sample Input\n",
    "\n",
    "# 2\n",
    "# 1\n",
    "# 2\n",
    "# Sample Output\n",
    "\n",
    "# 0\n",
    "# 1"
   ]
  },
  {
   "cell_type": "code",
   "execution_count": null,
   "id": "e107c843",
   "metadata": {},
   "outputs": [],
   "source": [
    "#logic  1"
   ]
  },
  {
   "cell_type": "code",
   "execution_count": null,
   "id": "b52a9974",
   "metadata": {},
   "outputs": [],
   "source": [
    "#!/bin/python3\n",
    "\n",
    "import math\n",
    "import os\n",
    "import random\n",
    "import re\n",
    "import sys\n",
    "\n",
    "#\n",
    "# Complete the 'handshake' function below.\n",
    "#\n",
    "# The function is expected to return an INTEGER.\n",
    "# The function accepts INTEGER n as parameter.\n",
    "def handshake(n):\n",
    "    return (n * (n - 1)) // 2\n",
    "\n",
    "if __name__ == '__main__':\n",
    "    fptr = open(os.environ['OUTPUT_PATH'], 'w')\n",
    "\n",
    "    t = int(input().strip())\n",
    "\n",
    "    for t_itr in range(t):\n",
    "        n = int(input().strip())\n",
    "\n",
    "        result = handshake(n)\n",
    "\n",
    "        fptr.write(str(result) + '\\n')\n",
    "\n",
    "    fptr.close()\n"
   ]
  }
 ],
 "metadata": {
  "kernelspec": {
   "display_name": "Python 3 (ipykernel)",
   "language": "python",
   "name": "python3"
  },
  "language_info": {
   "codemirror_mode": {
    "name": "ipython",
    "version": 3
   },
   "file_extension": ".py",
   "mimetype": "text/x-python",
   "name": "python",
   "nbconvert_exporter": "python",
   "pygments_lexer": "ipython3",
   "version": "3.11.3"
  }
 },
 "nbformat": 4,
 "nbformat_minor": 5
}
