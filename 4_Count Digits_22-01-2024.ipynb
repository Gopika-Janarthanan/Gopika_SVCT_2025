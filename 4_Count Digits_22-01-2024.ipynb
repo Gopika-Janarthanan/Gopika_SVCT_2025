{
 "cells": [
  {
   "cell_type": "code",
   "execution_count": null,
   "id": "7f4b500a",
   "metadata": {},
   "outputs": [],
   "source": [
    "# Given an integer N, write a program to count the number of digits in N.\n",
    "\n",
    "# Input Format\n",
    "\n",
    "# Example 1: Input0: N = 12345\n",
    "\n",
    "# Example 2: Input1: N = 8394\n",
    "\n",
    "# Constraints\n",
    "\n",
    "# n <= 10000\n",
    "\n",
    "# Output Format\n",
    "\n",
    "# Output0: 5 Explanation: N has 5 digits\n",
    "\n",
    "# Output1: 4 Explanation: N has 4 digits\n",
    "\n",
    "# Sample Input 0\n",
    "\n",
    "# 12345\n",
    "# Sample Output 0\n",
    "\n",
    "# 5\n",
    "# Sample Input 1\n",
    "\n",
    "# 876349\n",
    "# Sample Output 1\n",
    "\n",
    "# 6"
   ]
  },
  {
   "cell_type": "code",
   "execution_count": null,
   "id": "e1aabae3",
   "metadata": {
    "collapsed": true
   },
   "outputs": [],
   "source": [
    "#logic 1"
   ]
  },
  {
   "cell_type": "code",
   "execution_count": null,
   "id": "47245e27",
   "metadata": {},
   "outputs": [],
   "source": [
    "a=int(input())\n",
    "b=str(a)\n",
    "length=len(b)\n",
    "print(length)"
   ]
  }
 ],
 "metadata": {
  "kernelspec": {
   "display_name": "Python 3 (ipykernel)",
   "language": "python",
   "name": "python3"
  },
  "language_info": {
   "codemirror_mode": {
    "name": "ipython",
    "version": 3
   },
   "file_extension": ".py",
   "mimetype": "text/x-python",
   "name": "python",
   "nbconvert_exporter": "python",
   "pygments_lexer": "ipython3",
   "version": "3.11.3"
  }
 },
 "nbformat": 4,
 "nbformat_minor": 5
}
